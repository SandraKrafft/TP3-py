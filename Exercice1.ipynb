{
 "cells": [
  {
   "cell_type": "code",
   "execution_count": null,
   "metadata": {},
   "outputs": [],
   "source": []
  },
  {
   "cell_type": "markdown",
   "metadata": {},
   "source": [
    "1) Qu'est ce qu'un service web?\n",
    "Un service web est un server qui permet à des applications d'échanger des informatiobs sans avoir été construites dans le même language de programmation. (source : https://www.oracle.com/fr/cloud/definition-web-service/)"
   ]
  },
  {
   "cell_type": "markdown",
   "metadata": {},
   "source": [
    "2) Une API REST, qu'est-ce que c'est ?\n",
    "\"Une API REST (également appelée API RESTful) est une interface de programmation d'application (API ou API web) qui respecte les contraintes du style d'architecture REST et permet d'interagir avec les services web RESTful. L'architecture REST (Representational State Transfer) a été créée par l'informaticien Roy Fielding.\" - https://www.redhat.com/fr/topics/api/what-is-a-rest-api\n"
   ]
  },
  {
   "cell_type": "markdown",
   "metadata": {},
   "source": [
    "3) Qu'est ce qu'une FastAPI?\n",
    "\"FastAPI est un framework moderne qui vous permet de créer des API de manière transparente sans trop d'efforts. Il a la capacité de séparer le code du serveur de la logique-métier, ce qui augmente la maintenabilité du code. Il serait plus rapide que Flask, car il est construit sur ASGI (Asynchronous Server Gateway Interface) au lieu de WSGI (Web Server Gateway Interface). Il dispose d'un système de validation des données qui peut détecter tout type de données invalides au moment de l'exécution et renvoie la raison des mauvaises entrées à l'utilisateur au seul format JSON.\" -https://python.developpez.com/actu/312220/FastAPI-un-framework-pour-la-creation-d-API-avec-Python-3-6plus-basees-sur-des-declarations-de-type-Python-standard-avec-des-performances-qui-egaleraient-celles-de-Node-js-et-Go/\n"
   ]
  }
 ],
 "metadata": {
  "language_info": {
   "name": "python"
  },
  "orig_nbformat": 4
 },
 "nbformat": 4,
 "nbformat_minor": 2
}
